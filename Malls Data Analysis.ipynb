{
 "cells": [
  {
   "cell_type": "code",
   "execution_count": 1,
   "id": "a709a02c",
   "metadata": {},
   "outputs": [],
   "source": [
    "import pandas as pd\n",
    "import matplotlib.pyplot as plt\n",
    "import seaborn as sns"
   ]
  },
  {
   "cell_type": "code",
   "execution_count": 2,
   "id": "6a612500",
   "metadata": {},
   "outputs": [],
   "source": [
    "df = pd.read_csv('customer_shopping_data.csv')"
   ]
  },
  {
   "cell_type": "code",
   "execution_count": 3,
   "id": "e9c614da",
   "metadata": {},
   "outputs": [
    {
     "data": {
      "text/html": [
       "<div>\n",
       "<style scoped>\n",
       "    .dataframe tbody tr th:only-of-type {\n",
       "        vertical-align: middle;\n",
       "    }\n",
       "\n",
       "    .dataframe tbody tr th {\n",
       "        vertical-align: top;\n",
       "    }\n",
       "\n",
       "    .dataframe thead th {\n",
       "        text-align: right;\n",
       "    }\n",
       "</style>\n",
       "<table border=\"1\" class=\"dataframe\">\n",
       "  <thead>\n",
       "    <tr style=\"text-align: right;\">\n",
       "      <th></th>\n",
       "      <th>invoice_no</th>\n",
       "      <th>customer_id</th>\n",
       "      <th>gender</th>\n",
       "      <th>age</th>\n",
       "      <th>category</th>\n",
       "      <th>quantity</th>\n",
       "      <th>price</th>\n",
       "      <th>payment_method</th>\n",
       "      <th>invoice_date</th>\n",
       "      <th>shopping_mall</th>\n",
       "    </tr>\n",
       "  </thead>\n",
       "  <tbody>\n",
       "    <tr>\n",
       "      <th>0</th>\n",
       "      <td>I138884</td>\n",
       "      <td>C241288</td>\n",
       "      <td>Female</td>\n",
       "      <td>28</td>\n",
       "      <td>Clothing</td>\n",
       "      <td>5</td>\n",
       "      <td>1500.40</td>\n",
       "      <td>Credit Card</td>\n",
       "      <td>5/8/2022</td>\n",
       "      <td>Kanyon</td>\n",
       "    </tr>\n",
       "    <tr>\n",
       "      <th>1</th>\n",
       "      <td>I317333</td>\n",
       "      <td>C111565</td>\n",
       "      <td>Male</td>\n",
       "      <td>21</td>\n",
       "      <td>Shoes</td>\n",
       "      <td>3</td>\n",
       "      <td>1800.51</td>\n",
       "      <td>Debit Card</td>\n",
       "      <td>12/12/2021</td>\n",
       "      <td>Forum Istanbul</td>\n",
       "    </tr>\n",
       "  </tbody>\n",
       "</table>\n",
       "</div>"
      ],
      "text/plain": [
       "  invoice_no customer_id  gender  age  category  quantity    price  \\\n",
       "0    I138884     C241288  Female   28  Clothing         5  1500.40   \n",
       "1    I317333     C111565    Male   21     Shoes         3  1800.51   \n",
       "\n",
       "  payment_method invoice_date   shopping_mall  \n",
       "0    Credit Card     5/8/2022          Kanyon  \n",
       "1     Debit Card   12/12/2021  Forum Istanbul  "
      ]
     },
     "execution_count": 3,
     "metadata": {},
     "output_type": "execute_result"
    }
   ],
   "source": [
    "df.head(2)"
   ]
  },
  {
   "cell_type": "code",
   "execution_count": null,
   "id": "b8cf97c2",
   "metadata": {},
   "outputs": [],
   "source": [
    "df.isnull().sum()"
   ]
  },
  {
   "cell_type": "code",
   "execution_count": 9,
   "id": "98a400ed",
   "metadata": {},
   "outputs": [
    {
     "data": {
      "text/html": [
       "<div>\n",
       "<style scoped>\n",
       "    .dataframe tbody tr th:only-of-type {\n",
       "        vertical-align: middle;\n",
       "    }\n",
       "\n",
       "    .dataframe tbody tr th {\n",
       "        vertical-align: top;\n",
       "    }\n",
       "\n",
       "    .dataframe thead th {\n",
       "        text-align: right;\n",
       "    }\n",
       "</style>\n",
       "<table border=\"1\" class=\"dataframe\">\n",
       "  <thead>\n",
       "    <tr style=\"text-align: right;\">\n",
       "      <th></th>\n",
       "      <th>invoice_no</th>\n",
       "      <th>customer_id</th>\n",
       "      <th>gender</th>\n",
       "      <th>age</th>\n",
       "      <th>category</th>\n",
       "      <th>quantity</th>\n",
       "      <th>price</th>\n",
       "      <th>payment_method</th>\n",
       "      <th>invoice_date</th>\n",
       "      <th>shopping_mall</th>\n",
       "    </tr>\n",
       "  </thead>\n",
       "  <tbody>\n",
       "    <tr>\n",
       "      <th>67</th>\n",
       "      <td>I204979</td>\n",
       "      <td>C173084</td>\n",
       "      <td>Female</td>\n",
       "      <td>24</td>\n",
       "      <td>Souvenir</td>\n",
       "      <td>5</td>\n",
       "      <td>58.65</td>\n",
       "      <td>Debit Card</td>\n",
       "      <td>14/03/2021</td>\n",
       "      <td>Istinye Park</td>\n",
       "    </tr>\n",
       "    <tr>\n",
       "      <th>75</th>\n",
       "      <td>I870944</td>\n",
       "      <td>C169749</td>\n",
       "      <td>Male</td>\n",
       "      <td>41</td>\n",
       "      <td>Souvenir</td>\n",
       "      <td>3</td>\n",
       "      <td>35.19</td>\n",
       "      <td>Credit Card</td>\n",
       "      <td>8/6/2021</td>\n",
       "      <td>Cevahir AVM</td>\n",
       "    </tr>\n",
       "    <tr>\n",
       "      <th>82</th>\n",
       "      <td>I151332</td>\n",
       "      <td>C168491</td>\n",
       "      <td>Male</td>\n",
       "      <td>30</td>\n",
       "      <td>Souvenir</td>\n",
       "      <td>2</td>\n",
       "      <td>23.46</td>\n",
       "      <td>Cash</td>\n",
       "      <td>25/03/2021</td>\n",
       "      <td>Kanyon</td>\n",
       "    </tr>\n",
       "    <tr>\n",
       "      <th>92</th>\n",
       "      <td>I317105</td>\n",
       "      <td>C177975</td>\n",
       "      <td>Female</td>\n",
       "      <td>30</td>\n",
       "      <td>Souvenir</td>\n",
       "      <td>5</td>\n",
       "      <td>58.65</td>\n",
       "      <td>Debit Card</td>\n",
       "      <td>29/07/2021</td>\n",
       "      <td>Kanyon</td>\n",
       "    </tr>\n",
       "    <tr>\n",
       "      <th>114</th>\n",
       "      <td>I317140</td>\n",
       "      <td>C326893</td>\n",
       "      <td>Female</td>\n",
       "      <td>56</td>\n",
       "      <td>Souvenir</td>\n",
       "      <td>5</td>\n",
       "      <td>58.65</td>\n",
       "      <td>Cash</td>\n",
       "      <td>19/10/2022</td>\n",
       "      <td>Istinye Park</td>\n",
       "    </tr>\n",
       "    <tr>\n",
       "      <th>...</th>\n",
       "      <td>...</td>\n",
       "      <td>...</td>\n",
       "      <td>...</td>\n",
       "      <td>...</td>\n",
       "      <td>...</td>\n",
       "      <td>...</td>\n",
       "      <td>...</td>\n",
       "      <td>...</td>\n",
       "      <td>...</td>\n",
       "      <td>...</td>\n",
       "    </tr>\n",
       "    <tr>\n",
       "      <th>99272</th>\n",
       "      <td>I184770</td>\n",
       "      <td>C313382</td>\n",
       "      <td>Female</td>\n",
       "      <td>32</td>\n",
       "      <td>Souvenir</td>\n",
       "      <td>2</td>\n",
       "      <td>23.46</td>\n",
       "      <td>Cash</td>\n",
       "      <td>22/11/2021</td>\n",
       "      <td>Metrocity</td>\n",
       "    </tr>\n",
       "    <tr>\n",
       "      <th>99276</th>\n",
       "      <td>I303026</td>\n",
       "      <td>C128555</td>\n",
       "      <td>Female</td>\n",
       "      <td>52</td>\n",
       "      <td>Souvenir</td>\n",
       "      <td>3</td>\n",
       "      <td>35.19</td>\n",
       "      <td>Credit Card</td>\n",
       "      <td>6/5/2021</td>\n",
       "      <td>Emaar Square Mall</td>\n",
       "    </tr>\n",
       "    <tr>\n",
       "      <th>99329</th>\n",
       "      <td>I381614</td>\n",
       "      <td>C211364</td>\n",
       "      <td>Female</td>\n",
       "      <td>27</td>\n",
       "      <td>Souvenir</td>\n",
       "      <td>3</td>\n",
       "      <td>35.19</td>\n",
       "      <td>Credit Card</td>\n",
       "      <td>28/08/2022</td>\n",
       "      <td>Kanyon</td>\n",
       "    </tr>\n",
       "    <tr>\n",
       "      <th>99452</th>\n",
       "      <td>I219422</td>\n",
       "      <td>C441542</td>\n",
       "      <td>Female</td>\n",
       "      <td>45</td>\n",
       "      <td>Souvenir</td>\n",
       "      <td>5</td>\n",
       "      <td>58.65</td>\n",
       "      <td>Credit Card</td>\n",
       "      <td>21/09/2022</td>\n",
       "      <td>Kanyon</td>\n",
       "    </tr>\n",
       "    <tr>\n",
       "      <th>99456</th>\n",
       "      <td>I232867</td>\n",
       "      <td>C273973</td>\n",
       "      <td>Female</td>\n",
       "      <td>36</td>\n",
       "      <td>Souvenir</td>\n",
       "      <td>3</td>\n",
       "      <td>35.19</td>\n",
       "      <td>Credit Card</td>\n",
       "      <td>15/10/2022</td>\n",
       "      <td>Mall of Istanbul</td>\n",
       "    </tr>\n",
       "  </tbody>\n",
       "</table>\n",
       "<p>4999 rows × 10 columns</p>\n",
       "</div>"
      ],
      "text/plain": [
       "      invoice_no customer_id  gender  age  category  quantity  price  \\\n",
       "67       I204979     C173084  Female   24  Souvenir         5  58.65   \n",
       "75       I870944     C169749    Male   41  Souvenir         3  35.19   \n",
       "82       I151332     C168491    Male   30  Souvenir         2  23.46   \n",
       "92       I317105     C177975  Female   30  Souvenir         5  58.65   \n",
       "114      I317140     C326893  Female   56  Souvenir         5  58.65   \n",
       "...          ...         ...     ...  ...       ...       ...    ...   \n",
       "99272    I184770     C313382  Female   32  Souvenir         2  23.46   \n",
       "99276    I303026     C128555  Female   52  Souvenir         3  35.19   \n",
       "99329    I381614     C211364  Female   27  Souvenir         3  35.19   \n",
       "99452    I219422     C441542  Female   45  Souvenir         5  58.65   \n",
       "99456    I232867     C273973  Female   36  Souvenir         3  35.19   \n",
       "\n",
       "      payment_method invoice_date      shopping_mall  \n",
       "67        Debit Card   14/03/2021       Istinye Park  \n",
       "75       Credit Card     8/6/2021        Cevahir AVM  \n",
       "82              Cash   25/03/2021             Kanyon  \n",
       "92        Debit Card   29/07/2021             Kanyon  \n",
       "114             Cash   19/10/2022       Istinye Park  \n",
       "...              ...          ...                ...  \n",
       "99272           Cash   22/11/2021          Metrocity  \n",
       "99276    Credit Card     6/5/2021  Emaar Square Mall  \n",
       "99329    Credit Card   28/08/2022             Kanyon  \n",
       "99452    Credit Card   21/09/2022             Kanyon  \n",
       "99456    Credit Card   15/10/2022   Mall of Istanbul  \n",
       "\n",
       "[4999 rows x 10 columns]"
      ]
     },
     "execution_count": 9,
     "metadata": {},
     "output_type": "execute_result"
    }
   ],
   "source": [
    "df[df['category'].str.contains('Souvenir')]"
   ]
  },
  {
   "cell_type": "code",
   "execution_count": 19,
   "id": "2fba0aa1",
   "metadata": {},
   "outputs": [],
   "source": [
    "df.rename(columns = {'Total':'Total Price'},inplace = True)"
   ]
  },
  {
   "cell_type": "code",
   "execution_count": 21,
   "id": "ecc0f3af",
   "metadata": {},
   "outputs": [],
   "source": [
    "df['Unit Price'] = df['Total Price']/df['quantity']"
   ]
  },
  {
   "cell_type": "code",
   "execution_count": 29,
   "id": "5eca3d47",
   "metadata": {},
   "outputs": [
    {
     "data": {
      "text/html": [
       "<div>\n",
       "<style scoped>\n",
       "    .dataframe tbody tr th:only-of-type {\n",
       "        vertical-align: middle;\n",
       "    }\n",
       "\n",
       "    .dataframe tbody tr th {\n",
       "        vertical-align: top;\n",
       "    }\n",
       "\n",
       "    .dataframe thead th {\n",
       "        text-align: right;\n",
       "    }\n",
       "</style>\n",
       "<table border=\"1\" class=\"dataframe\">\n",
       "  <thead>\n",
       "    <tr style=\"text-align: right;\">\n",
       "      <th></th>\n",
       "      <th>invoice_no</th>\n",
       "      <th>customer_id</th>\n",
       "      <th>gender</th>\n",
       "      <th>age</th>\n",
       "      <th>category</th>\n",
       "      <th>quantity</th>\n",
       "      <th>Total Price</th>\n",
       "      <th>payment_method</th>\n",
       "      <th>invoice_date</th>\n",
       "      <th>shopping_mall</th>\n",
       "      <th>Unit Price</th>\n",
       "    </tr>\n",
       "  </thead>\n",
       "  <tbody>\n",
       "    <tr>\n",
       "      <th>0</th>\n",
       "      <td>I138884</td>\n",
       "      <td>C241288</td>\n",
       "      <td>Female</td>\n",
       "      <td>28</td>\n",
       "      <td>Clothing</td>\n",
       "      <td>5</td>\n",
       "      <td>1500.40</td>\n",
       "      <td>Credit Card</td>\n",
       "      <td>5/8/2022</td>\n",
       "      <td>Kanyon</td>\n",
       "      <td>300.08</td>\n",
       "    </tr>\n",
       "    <tr>\n",
       "      <th>1</th>\n",
       "      <td>I317333</td>\n",
       "      <td>C111565</td>\n",
       "      <td>Male</td>\n",
       "      <td>21</td>\n",
       "      <td>Shoes</td>\n",
       "      <td>3</td>\n",
       "      <td>1800.51</td>\n",
       "      <td>Debit Card</td>\n",
       "      <td>12/12/2021</td>\n",
       "      <td>Forum Istanbul</td>\n",
       "      <td>600.17</td>\n",
       "    </tr>\n",
       "  </tbody>\n",
       "</table>\n",
       "</div>"
      ],
      "text/plain": [
       "  invoice_no customer_id  gender  age  category  quantity  Total Price  \\\n",
       "0    I138884     C241288  Female   28  Clothing         5      1500.40   \n",
       "1    I317333     C111565    Male   21     Shoes         3      1800.51   \n",
       "\n",
       "  payment_method invoice_date   shopping_mall  Unit Price  \n",
       "0    Credit Card     5/8/2022          Kanyon      300.08  \n",
       "1     Debit Card   12/12/2021  Forum Istanbul      600.17  "
      ]
     },
     "execution_count": 29,
     "metadata": {},
     "output_type": "execute_result"
    }
   ],
   "source": [
    "df.head(2)"
   ]
  },
  {
   "cell_type": "code",
   "execution_count": 28,
   "id": "f662f0b0",
   "metadata": {},
   "outputs": [
    {
     "data": {
      "text/html": [
       "<div>\n",
       "<style scoped>\n",
       "    .dataframe tbody tr th:only-of-type {\n",
       "        vertical-align: middle;\n",
       "    }\n",
       "\n",
       "    .dataframe tbody tr th {\n",
       "        vertical-align: top;\n",
       "    }\n",
       "\n",
       "    .dataframe thead th {\n",
       "        text-align: right;\n",
       "    }\n",
       "</style>\n",
       "<table border=\"1\" class=\"dataframe\">\n",
       "  <thead>\n",
       "    <tr style=\"text-align: right;\">\n",
       "      <th></th>\n",
       "      <th>invoice_no</th>\n",
       "      <th>customer_id</th>\n",
       "      <th>gender</th>\n",
       "      <th>age</th>\n",
       "      <th>category</th>\n",
       "      <th>quantity</th>\n",
       "      <th>Total Price</th>\n",
       "      <th>payment_method</th>\n",
       "      <th>invoice_date</th>\n",
       "      <th>shopping_mall</th>\n",
       "      <th>Unit Price</th>\n",
       "    </tr>\n",
       "  </thead>\n",
       "  <tbody>\n",
       "    <tr>\n",
       "      <th>49728</th>\n",
       "      <td>I116181</td>\n",
       "      <td>C224076</td>\n",
       "      <td>Female</td>\n",
       "      <td>41</td>\n",
       "      <td>Food &amp; Beverage</td>\n",
       "      <td>5</td>\n",
       "      <td>26.15</td>\n",
       "      <td>Cash</td>\n",
       "      <td>6/2/2023</td>\n",
       "      <td>Metrocity</td>\n",
       "      <td>5.23</td>\n",
       "    </tr>\n",
       "    <tr>\n",
       "      <th>56111</th>\n",
       "      <td>I305660</td>\n",
       "      <td>C658114</td>\n",
       "      <td>Male</td>\n",
       "      <td>38</td>\n",
       "      <td>Food &amp; Beverage</td>\n",
       "      <td>5</td>\n",
       "      <td>26.15</td>\n",
       "      <td>Cash</td>\n",
       "      <td>14/07/2021</td>\n",
       "      <td>Mall of Istanbul</td>\n",
       "      <td>5.23</td>\n",
       "    </tr>\n",
       "  </tbody>\n",
       "</table>\n",
       "</div>"
      ],
      "text/plain": [
       "      invoice_no customer_id  gender  age         category  quantity  \\\n",
       "49728    I116181     C224076  Female   41  Food & Beverage         5   \n",
       "56111    I305660     C658114    Male   38  Food & Beverage         5   \n",
       "\n",
       "       Total Price payment_method invoice_date     shopping_mall  Unit Price  \n",
       "49728        26.15           Cash     6/2/2023         Metrocity        5.23  \n",
       "56111        26.15           Cash   14/07/2021  Mall of Istanbul        5.23  "
      ]
     },
     "execution_count": 28,
     "metadata": {},
     "output_type": "execute_result"
    }
   ],
   "source": [
    "df.sort_values(by = 'Unit Price').head(2)"
   ]
  },
  {
   "cell_type": "code",
   "execution_count": 47,
   "id": "c5e69a30",
   "metadata": {},
   "outputs": [
    {
     "data": {
      "text/html": [
       "<div>\n",
       "<style scoped>\n",
       "    .dataframe tbody tr th:only-of-type {\n",
       "        vertical-align: middle;\n",
       "    }\n",
       "\n",
       "    .dataframe tbody tr th {\n",
       "        vertical-align: top;\n",
       "    }\n",
       "\n",
       "    .dataframe thead th {\n",
       "        text-align: right;\n",
       "    }\n",
       "</style>\n",
       "<table border=\"1\" class=\"dataframe\">\n",
       "  <thead>\n",
       "    <tr style=\"text-align: right;\">\n",
       "      <th></th>\n",
       "      <th>customer_id</th>\n",
       "      <th>count</th>\n",
       "    </tr>\n",
       "  </thead>\n",
       "  <tbody>\n",
       "    <tr>\n",
       "      <th>38371</th>\n",
       "      <td>C999995</td>\n",
       "      <td>1</td>\n",
       "    </tr>\n",
       "    <tr>\n",
       "      <th>76632</th>\n",
       "      <td>C999976</td>\n",
       "      <td>1</td>\n",
       "    </tr>\n",
       "  </tbody>\n",
       "</table>\n",
       "</div>"
      ],
      "text/plain": [
       "      customer_id  count\n",
       "38371     C999995      1\n",
       "76632     C999976      1"
      ]
     },
     "execution_count": 47,
     "metadata": {},
     "output_type": "execute_result"
    }
   ],
   "source": [
    "#unique customers\n",
    "df['customer_id'].value_counts().reset_index().sort_values(by = 'customer_id' , ascending = False).head(2)"
   ]
  },
  {
   "cell_type": "code",
   "execution_count": 51,
   "id": "ccdd92a1",
   "metadata": {},
   "outputs": [
    {
     "data": {
      "text/html": [
       "<div>\n",
       "<style scoped>\n",
       "    .dataframe tbody tr th:only-of-type {\n",
       "        vertical-align: middle;\n",
       "    }\n",
       "\n",
       "    .dataframe tbody tr th {\n",
       "        vertical-align: top;\n",
       "    }\n",
       "\n",
       "    .dataframe thead th {\n",
       "        text-align: right;\n",
       "    }\n",
       "</style>\n",
       "<table border=\"1\" class=\"dataframe\">\n",
       "  <thead>\n",
       "    <tr style=\"text-align: right;\">\n",
       "      <th></th>\n",
       "      <th>Total Price</th>\n",
       "      <th>quantity</th>\n",
       "    </tr>\n",
       "  </thead>\n",
       "  <tbody>\n",
       "    <tr>\n",
       "      <th>count</th>\n",
       "      <td>99457.000000</td>\n",
       "      <td>99457.000000</td>\n",
       "    </tr>\n",
       "    <tr>\n",
       "      <th>mean</th>\n",
       "      <td>689.256321</td>\n",
       "      <td>3.003429</td>\n",
       "    </tr>\n",
       "    <tr>\n",
       "      <th>std</th>\n",
       "      <td>941.184567</td>\n",
       "      <td>1.413025</td>\n",
       "    </tr>\n",
       "    <tr>\n",
       "      <th>min</th>\n",
       "      <td>5.230000</td>\n",
       "      <td>1.000000</td>\n",
       "    </tr>\n",
       "    <tr>\n",
       "      <th>25%</th>\n",
       "      <td>45.450000</td>\n",
       "      <td>2.000000</td>\n",
       "    </tr>\n",
       "    <tr>\n",
       "      <th>50%</th>\n",
       "      <td>203.300000</td>\n",
       "      <td>3.000000</td>\n",
       "    </tr>\n",
       "    <tr>\n",
       "      <th>75%</th>\n",
       "      <td>1200.320000</td>\n",
       "      <td>4.000000</td>\n",
       "    </tr>\n",
       "    <tr>\n",
       "      <th>max</th>\n",
       "      <td>5250.000000</td>\n",
       "      <td>5.000000</td>\n",
       "    </tr>\n",
       "  </tbody>\n",
       "</table>\n",
       "</div>"
      ],
      "text/plain": [
       "        Total Price      quantity\n",
       "count  99457.000000  99457.000000\n",
       "mean     689.256321      3.003429\n",
       "std      941.184567      1.413025\n",
       "min        5.230000      1.000000\n",
       "25%       45.450000      2.000000\n",
       "50%      203.300000      3.000000\n",
       "75%     1200.320000      4.000000\n",
       "max     5250.000000      5.000000"
      ]
     },
     "execution_count": 51,
     "metadata": {},
     "output_type": "execute_result"
    }
   ],
   "source": [
    "df[['Total Price' ,'quantity']].describe()"
   ]
  },
  {
   "cell_type": "code",
   "execution_count": 53,
   "id": "df518f83",
   "metadata": {
    "scrolled": true
   },
   "outputs": [
    {
     "data": {
      "text/plain": [
       "invoice_no         object\n",
       "customer_id        object\n",
       "gender             object\n",
       "age                 int64\n",
       "category           object\n",
       "quantity            int64\n",
       "Total Price       float64\n",
       "payment_method     object\n",
       "invoice_date       object\n",
       "shopping_mall      object\n",
       "Unit Price        float64\n",
       "dtype: object"
      ]
     },
     "execution_count": 53,
     "metadata": {},
     "output_type": "execute_result"
    }
   ],
   "source": [
    "df.dtypes"
   ]
  },
  {
   "cell_type": "markdown",
   "id": "3d3eba0f",
   "metadata": {},
   "source": [
    "# Exploratory Data Analysis"
   ]
  },
  {
   "cell_type": "code",
   "execution_count": 65,
   "id": "e24746ed",
   "metadata": {},
   "outputs": [
    {
     "data": {
      "image/png": "[encoded data removed]",
      "text/plain": [
       "<Figure size 640x480 with 1 Axes>"
      ]
     },
     "metadata": {},
     "output_type": "display_data"
    }
   ],
   "source": [
    "pm=df.groupby(['payment_method'],as_index = False)['Total Price'].sum().sort_values(by = ['payment_method'])\n",
    "plt.pie(pm['Total Price'] ,labels = pm['payment_method'] ,autopct = '%0.01f%%',radius = 1.2)\n",
    "plt.pie([1],radius = .45 ,colors = 'w')\n",
    "plt.show()"
   ]
  },
  {
   "cell_type": "code",
   "execution_count": 77,
   "id": "b6e9dc80",
   "metadata": {},
   "outputs": [
    {
     "data": {
      "image/png": "[encoded data removed]",
      "text/plain": [
       "<Figure size 400x450 with 1 Axes>"
      ]
     },
     "metadata": {},
     "output_type": "display_data"
    }
   ],
   "source": [
    "plt.figure(figsize = (4,4.5))\n",
    "ax= sns.countplot(x = df['gender'])\n",
    "for bars in ax.containers:\n",
    "    ax.bar_label(bars)\n",
    "plt.xlabel('Gender')\n",
    "plt.ylabel('Number of Buyers')\n",
    "plt.show()"
   ]
  },
  {
   "cell_type": "code",
   "execution_count": 98,
   "id": "aa883aab",
   "metadata": {},
   "outputs": [
    {
     "data": {
      "image/png": "[encoded data removed]",
      "text/plain": [
       "<Figure size 1500x600 with 1 Axes>"
      ]
     },
     "metadata": {},
     "output_type": "display_data"
    }
   ],
   "source": [
    "plt.figure(figsize= (15,6))\n",
    "pm=df.groupby(['shopping_mall'],as_index = False)['Total Price'].sum().sort_values(by = ['shopping_mall'],ascending = False)\n",
    "sns.barplot(x= 'shopping_mall',y='Total Price',data = pm)\n",
    "plt.xlabel('Shopping Malls')\n",
    "plt.ylabel('Revenue Generated')\n",
    "plt.show()"
   ]
  },
  {
   "cell_type": "code",
   "execution_count": 106,
   "id": "7742f180",
   "metadata": {
    "scrolled": false
   },
   "outputs": [
    {
     "data": {
      "image/png": "[encoded data removed]",
      "text/plain": [
       "<Figure size 1500x600 with 1 Axes>"
      ]
     },
     "metadata": {},
     "output_type": "display_data"
    }
   ],
   "source": [
    "plt.figure(figsize= (15,6))\n",
    "pm=df.groupby(['category'],as_index = False)['Total Price'].sum().sort_values(by = ['category'],ascending = False)\n",
    "sns.barplot(x= 'category',y='Total Price',data = pm)\n",
    "plt.xlabel('category')\n",
    "plt.ylabel('Revenue Generated')\n",
    "plt.show()"
   ]
  },
  {
   "cell_type": "code",
   "execution_count": 126,
   "id": "1b2e9b2b",
   "metadata": {
    "scrolled": false
   },
   "outputs": [
    {
     "data": {
      "image/png": "[encoded data removed]",
      "text/plain": [
       "<Figure size 640x480 with 1 Axes>"
      ]
     },
     "metadata": {},
     "output_type": "display_data"
    }
   ],
   "source": [
    "sns.histplot(df['age'])\n",
    "plt.show()"
   ]
  },
  {
   "cell_type": "markdown",
   "id": "b2921831",
   "metadata": {},
   "source": [
    "**Conclusion:**"
   ]
  },
  {
   "cell_type": "markdown",
   "id": "ebd01b09",
   "metadata": {},
   "source": [
    "*1.Orders are bought using 'Credit Card' and 'Cash'.*"
   ]
  },
  {
   "cell_type": "markdown",
   "id": "21857143",
   "metadata": {},
   "source": [
    "*2.Mostly Buyers are Females.*"
   ]
  },
  {
   "cell_type": "markdown",
   "id": "2c9b59d0",
   "metadata": {},
   "source": [
    "*3.'Mall Of Istanbul ,Kanyon , Metrocity' (Malls) have highest sales.*"
   ]
  },
  {
   "cell_type": "markdown",
   "id": "f72e9119",
   "metadata": {},
   "source": [
    "*4.Most selling Categories are 'Clothing' , 'Shoes'  and 'Technology'.*"
   ]
  },
  {
   "cell_type": "markdown",
   "id": "00341825",
   "metadata": {},
   "source": [
    "*5.Buyers are belongs to Age-Group '19-69' .*"
   ]
  }
 ],
 "metadata": {
  "kernelspec": {
   "display_name": "Python 3 (ipykernel)",
   "language": "python",
   "name": "python3"
  },
  "language_info": {
   "codemirror_mode": {
    "name": "ipython",
    "version": 3
   },
   "file_extension": ".py",
   "mimetype": "text/x-python",
   "name": "python",
   "nbconvert_exporter": "python",
   "pygments_lexer": "ipython3",
   "version": "3.11.4"
  }
 },
 "nbformat": 4,
 "nbformat_minor": 5
}
